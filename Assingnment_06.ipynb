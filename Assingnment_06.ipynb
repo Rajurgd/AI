{
  "nbformat": 4,
  "nbformat_minor": 0,
  "metadata": {
    "colab": {
      "name": "Assingnment-06",
      "provenance": [],
      "collapsed_sections": [],
      "include_colab_link": true
    },
    "kernelspec": {
      "name": "python3",
      "display_name": "Python 3"
    },
    "language_info": {
      "name": "python"
    }
  },
  "cells": [
    {
      "cell_type": "markdown",
      "metadata": {
        "id": "view-in-github",
        "colab_type": "text"
      },
      "source": [
        "<a href=\"https://colab.research.google.com/github/Rajurgd/AI/blob/main/Assingnment_06.ipynb\" target=\"_parent\"><img src=\"https://colab.research.google.com/assets/colab-badge.svg\" alt=\"Open In Colab\"/></a>"
      ]
    },
    {
      "cell_type": "markdown",
      "metadata": {
        "id": "jphoQ7A7He0p"
      },
      "source": [
        "#ASSIGNMENT-6\n",
        " -20K45A0216"
      ]
    },
    {
      "cell_type": "markdown",
      "metadata": {
        "id": "p72xkOKjHmBu"
      },
      "source": [
        "##Estimate the Bicarbonates of well water based on its PH value using Polynomial Regression Model."
      ]
    },
    {
      "cell_type": "code",
      "metadata": {
        "id": "VEvXvwKPHNOp"
      },
      "source": [
        "#Import Libraries\n",
        "import numpy as np\n",
        "import matplotlib.pyplot as plt\n",
        "import pandas as pd"
      ],
      "execution_count": null,
      "outputs": []
    },
    {
      "cell_type": "code",
      "metadata": {
        "colab": {
          "base_uri": "https://localhost:8080/",
          "height": 203
        },
        "id": "gNbk_g17Kxgj",
        "outputId": "57a78896-6e1e-464a-dc92-20f0e4fc5b36"
      },
      "source": [
        "#Load Dataset\n",
        "data = pd.read_csv('/content/drive/MyDrive/Assignment-4/slr09.csv')\n",
        "data = data.rename(columns={\n",
        "'X':'pH_level',\n",
        "'Y':'Bicarbonates'\n",
        "})\n",
        "data.tail()"
      ],
      "execution_count": null,
      "outputs": [
        {
          "output_type": "execute_result",
          "data": {
            "text/html": [
              "<div>\n",
              "<style scoped>\n",
              "    .dataframe tbody tr th:only-of-type {\n",
              "        vertical-align: middle;\n",
              "    }\n",
              "\n",
              "    .dataframe tbody tr th {\n",
              "        vertical-align: top;\n",
              "    }\n",
              "\n",
              "    .dataframe thead th {\n",
              "        text-align: right;\n",
              "    }\n",
              "</style>\n",
              "<table border=\"1\" class=\"dataframe\">\n",
              "  <thead>\n",
              "    <tr style=\"text-align: right;\">\n",
              "      <th></th>\n",
              "      <th>pH_level</th>\n",
              "      <th>Bicarbonates</th>\n",
              "    </tr>\n",
              "  </thead>\n",
              "  <tbody>\n",
              "    <tr>\n",
              "      <th>29</th>\n",
              "      <td>8.5</td>\n",
              "      <td>48</td>\n",
              "    </tr>\n",
              "    <tr>\n",
              "      <th>30</th>\n",
              "      <td>7.8</td>\n",
              "      <td>147</td>\n",
              "    </tr>\n",
              "    <tr>\n",
              "      <th>31</th>\n",
              "      <td>6.7</td>\n",
              "      <td>117</td>\n",
              "    </tr>\n",
              "    <tr>\n",
              "      <th>32</th>\n",
              "      <td>7.1</td>\n",
              "      <td>182</td>\n",
              "    </tr>\n",
              "    <tr>\n",
              "      <th>33</th>\n",
              "      <td>7.3</td>\n",
              "      <td>87</td>\n",
              "    </tr>\n",
              "  </tbody>\n",
              "</table>\n",
              "</div>"
            ],
            "text/plain": [
              "    pH_level  Bicarbonates\n",
              "29       8.5            48\n",
              "30       7.8           147\n",
              "31       6.7           117\n",
              "32       7.1           182\n",
              "33       7.3            87"
            ]
          },
          "metadata": {},
          "execution_count": 22
        }
      ]
    },
    {
      "cell_type": "code",
      "metadata": {
        "colab": {
          "base_uri": "https://localhost:8080/"
        },
        "id": "Hh9W_49FMGsh",
        "outputId": "ea71aaad-ae86-4502-edce-26e0b094db08"
      },
      "source": [
        "print(dataset.isnull().sum())"
      ],
      "execution_count": null,
      "outputs": [
        {
          "output_type": "stream",
          "name": "stdout",
          "text": [
            "X    0\n",
            "Y    0\n",
            "dtype: int64\n"
          ]
        }
      ]
    },
    {
      "cell_type": "code",
      "metadata": {
        "id": "e6rh-7PJnLeb"
      },
      "source": [
        "xmax, xmin = np.max(data['pH_level']), np.min(data['pH_level'])\n",
        "data['pH_level'] = (data['pH_level'] - xmin) / (xmax - xmin)\n",
        "\n",
        "ymax, ymin = np.max(data['Bicarbonates']), np.min(data['Bicarbonates'])\n",
        "data['Bicarbonates'] = (data['Bicarbonates'] - ymin) / (ymax - ymin)"
      ],
      "execution_count": null,
      "outputs": []
    },
    {
      "cell_type": "code",
      "metadata": {
        "colab": {
          "base_uri": "https://localhost:8080/",
          "height": 203
        },
        "id": "_n5rAZYloca_",
        "outputId": "7f8f09af-f98c-45ae-c41a-fff81c4e0ede"
      },
      "source": [
        "data.tail()"
      ],
      "execution_count": null,
      "outputs": [
        {
          "output_type": "execute_result",
          "data": {
            "text/html": [
              "<div>\n",
              "<style scoped>\n",
              "    .dataframe tbody tr th:only-of-type {\n",
              "        vertical-align: middle;\n",
              "    }\n",
              "\n",
              "    .dataframe tbody tr th {\n",
              "        vertical-align: top;\n",
              "    }\n",
              "\n",
              "    .dataframe thead th {\n",
              "        text-align: right;\n",
              "    }\n",
              "</style>\n",
              "<table border=\"1\" class=\"dataframe\">\n",
              "  <thead>\n",
              "    <tr style=\"text-align: right;\">\n",
              "      <th></th>\n",
              "      <th>pH_level</th>\n",
              "      <th>Bicarbonates</th>\n",
              "    </tr>\n",
              "  </thead>\n",
              "  <tbody>\n",
              "    <tr>\n",
              "      <th>29</th>\n",
              "      <td>0.857143</td>\n",
              "      <td>0.057269</td>\n",
              "    </tr>\n",
              "    <tr>\n",
              "      <th>30</th>\n",
              "      <td>0.523810</td>\n",
              "      <td>0.493392</td>\n",
              "    </tr>\n",
              "    <tr>\n",
              "      <th>31</th>\n",
              "      <td>0.000000</td>\n",
              "      <td>0.361233</td>\n",
              "    </tr>\n",
              "    <tr>\n",
              "      <th>32</th>\n",
              "      <td>0.190476</td>\n",
              "      <td>0.647577</td>\n",
              "    </tr>\n",
              "    <tr>\n",
              "      <th>33</th>\n",
              "      <td>0.285714</td>\n",
              "      <td>0.229075</td>\n",
              "    </tr>\n",
              "  </tbody>\n",
              "</table>\n",
              "</div>"
            ],
            "text/plain": [
              "    pH_level  Bicarbonates\n",
              "29  0.857143      0.057269\n",
              "30  0.523810      0.493392\n",
              "31  0.000000      0.361233\n",
              "32  0.190476      0.647577\n",
              "33  0.285714      0.229075"
            ]
          },
          "metadata": {},
          "execution_count": 25
        }
      ]
    },
    {
      "cell_type": "code",
      "metadata": {
        "colab": {
          "base_uri": "https://localhost:8080/",
          "height": 110
        },
        "id": "jYkFjFkLohAe",
        "outputId": "c0469e65-53c3-4390-c074-c34122f9324c"
      },
      "source": [
        "data.describe().transpose()"
      ],
      "execution_count": null,
      "outputs": [
        {
          "output_type": "execute_result",
          "data": {
            "text/html": [
              "<div>\n",
              "<style scoped>\n",
              "    .dataframe tbody tr th:only-of-type {\n",
              "        vertical-align: middle;\n",
              "    }\n",
              "\n",
              "    .dataframe tbody tr th {\n",
              "        vertical-align: top;\n",
              "    }\n",
              "\n",
              "    .dataframe thead th {\n",
              "        text-align: right;\n",
              "    }\n",
              "</style>\n",
              "<table border=\"1\" class=\"dataframe\">\n",
              "  <thead>\n",
              "    <tr style=\"text-align: right;\">\n",
              "      <th></th>\n",
              "      <th>count</th>\n",
              "      <th>mean</th>\n",
              "      <th>std</th>\n",
              "      <th>min</th>\n",
              "      <th>25%</th>\n",
              "      <th>50%</th>\n",
              "      <th>75%</th>\n",
              "      <th>max</th>\n",
              "    </tr>\n",
              "  </thead>\n",
              "  <tbody>\n",
              "    <tr>\n",
              "      <th>pH_level</th>\n",
              "      <td>34.0</td>\n",
              "      <td>0.457983</td>\n",
              "      <td>0.238820</td>\n",
              "      <td>0.0</td>\n",
              "      <td>0.285714</td>\n",
              "      <td>0.428571</td>\n",
              "      <td>0.619048</td>\n",
              "      <td>1.0</td>\n",
              "    </tr>\n",
              "    <tr>\n",
              "      <th>Bicarbonates</th>\n",
              "      <td>34.0</td>\n",
              "      <td>0.474864</td>\n",
              "      <td>0.245759</td>\n",
              "      <td>0.0</td>\n",
              "      <td>0.317181</td>\n",
              "      <td>0.493392</td>\n",
              "      <td>0.667401</td>\n",
              "      <td>1.0</td>\n",
              "    </tr>\n",
              "  </tbody>\n",
              "</table>\n",
              "</div>"
            ],
            "text/plain": [
              "              count      mean       std  min       25%       50%       75%  max\n",
              "pH_level       34.0  0.457983  0.238820  0.0  0.285714  0.428571  0.619048  1.0\n",
              "Bicarbonates   34.0  0.474864  0.245759  0.0  0.317181  0.493392  0.667401  1.0"
            ]
          },
          "metadata": {},
          "execution_count": 26
        }
      ]
    },
    {
      "cell_type": "code",
      "metadata": {
        "id": "Xi_nGe20oj4s"
      },
      "source": [
        "from sklearn.model_selection import train_test_split\n",
        "X = data['pH_level']\n",
        "Y = data['Bicarbonates']\n",
        "xtrain, xtest, ytrain, ytest = train_test_split(X, Y, test_size=0.1, random_state=10)"
      ],
      "execution_count": null,
      "outputs": []
    },
    {
      "cell_type": "code",
      "metadata": {
        "colab": {
          "base_uri": "https://localhost:8080/"
        },
        "id": "0oBTED47ooep",
        "outputId": "d75ae98d-07f6-40e0-d8da-8af343df159d"
      },
      "source": [
        "m1 = np.random.uniform(-10, 10)\n",
        "m2 = np.random.uniform(-10, 10)\n",
        "c = np.random.uniform(-10, 10)\n",
        "learning_rate = 0.1\n",
        "epochs = 1000\n",
        "\n",
        "for _ in range(epochs):\n",
        "    for i in range(xtrain.shape[0]):\n",
        "        x, y = xtrain.iloc[i], ytrain.iloc[i]\n",
        "        ypred = (x ** 2) * m1 + x * m2 + c\n",
        "        gradm1 = -1 * (x ** 2) * (y - ypred)\n",
        "        gradm2 = -1 * x * (y - ypred)\n",
        "        gradc = -1 * (y - ypred)\n",
        "        m1 = m1 - learning_rate * gradm1\n",
        "        m2 = m2 - learning_rate * gradm2\n",
        "        c = c - learning_rate * gradc\n",
        "        \n",
        "model_params = [m1,m2, c]\n",
        "\n",
        "print(f\"Model Weights = {model_params[0]}, {model_params[1]}\\nModel Bias = {model_params[2]}\")"
      ],
      "execution_count": null,
      "outputs": [
        {
          "output_type": "stream",
          "name": "stdout",
          "text": [
            "Model Weights = -0.451835541862046, 0.03532578036387352\n",
            "Model Bias = 0.5334281623818173\n"
          ]
        }
      ]
    },
    {
      "cell_type": "code",
      "metadata": {
        "id": "B7b3ib1EouZa"
      },
      "source": [
        "ytrainPred = []\n",
        "for x in xtrain:\n",
        "    ytrainPred.append(m1 * (x ** 2) + m2 * x + c)\n",
        "\n",
        "#Predict Y values for testing data\n",
        "ytestPred = []\n",
        "for x in xtest:\n",
        "    ytestPred.append(m1 * (x ** 2) + m2 * x + c)"
      ],
      "execution_count": null,
      "outputs": []
    },
    {
      "cell_type": "code",
      "metadata": {
        "id": "LNQsd0Qhoxa2"
      },
      "source": [
        "xtrain = xtrain * (xmax - xmin) + xmin\n",
        "ytrain = ytrain * (ymax - ymin) + ymin\n",
        "\n",
        "xtest = xtest * (xmax - xmin) + xmin\n",
        "ytest = ytest * (ymax - ymin) + ymin\n",
        "\n",
        "ytrainPred = np.multiply(ytrainPred, (ymax - ymin)) + ymin\n",
        "ytestPred = np.multiply(ytestPred, (ymax - ymin)) + ymin"
      ],
      "execution_count": null,
      "outputs": []
    },
    {
      "cell_type": "code",
      "metadata": {
        "colab": {
          "base_uri": "https://localhost:8080/",
          "height": 265
        },
        "id": "Q5fD9NluqKVe",
        "outputId": "5d29d7c9-d6e2-4cf8-855e-76f46f0b2012"
      },
      "source": [
        "#Plotting the graph\n",
        "plt.scatter(np.array(xtrain, xtest), np.array(ytrain, ytest))\n",
        "x = np.array([i/10 for i in range(65, 90)])\n",
        "xnorm = (x - xmin) / (xmax - xmin)\n",
        "ypred = np.multiply(np.multiply(xnorm, xnorm), m1) + np.multiply(m2, xnorm) + c\n",
        "y = np.multiply(ypred, ymax - ymin) + ymin\n",
        "plt.plot(x, y)\n",
        "plt.show()"
      ],
      "execution_count": null,
      "outputs": [
        {
          "output_type": "display_data",
          "data": {
            "image/png": "[encoded data removed]",
            "text/plain": [
              "<Figure size 432x288 with 1 Axes>"
            ]
          },
          "metadata": {
            "needs_background": "light"
          }
        }
      ]
    },
    {
      "cell_type": "code",
      "metadata": {
        "colab": {
          "base_uri": "https://localhost:8080/"
        },
        "id": "4xBvpJoXo0Fw",
        "outputId": "396569d8-ff5e-4d91-d890-a80d688d0e7d"
      },
      "source": [
        "from sklearn.metrics import mean_absolute_error,mean_squared_error\n",
        "MAE_Train = mean_absolute_error(ytrainPred, ytrain) \n",
        "MSE_Train = mean_squared_error(ytrainPred, ytrain) \n",
        "RMSE_Train = mean_squared_error(ytrainPred, ytrain) ** 0.5\n",
        "\n",
        "MAE_Test = mean_absolute_error(ytestPred, ytest) \n",
        "MSE_Test = mean_squared_error(ytestPred, ytest) \n",
        "RMSE_Test = mean_squared_error(ytestPred, ytest) ** 0.5\n",
        "\n",
        " \n",
        "print('Training Error :')\n",
        "print('Mean Absolute Error :', MAE_Train)\n",
        "print('Mean Squared Error :', MSE_Train)\n",
        "print('Root Mean Squared Error :', RMSE_Train)\n",
        "print('\\nTesting Error :')\n",
        "print('Mean Absolute Error :', MAE_Test)\n",
        "print('Mean Squared Error :', MSE_Test)\n",
        "print('Root Mean Squared Error :', RMSE_Test)"
      ],
      "execution_count": null,
      "outputs": [
        {
          "output_type": "stream",
          "name": "stdout",
          "text": [
            "Training Error :\n",
            "Mean Absolute Error : 43.32993237066865\n",
            "Mean Squared Error : 2647.951296233725\n",
            "Root Mean Squared Error : 51.45824808749055\n",
            "\n",
            "Testing Error :\n",
            "Mean Absolute Error : 56.78238228779111\n",
            "Mean Squared Error : 3705.2852364465853\n",
            "Root Mean Squared Error : 60.87105417558156\n"
          ]
        }
      ]
    },
    {
      "cell_type": "code",
      "metadata": {
        "colab": {
          "base_uri": "https://localhost:8080/"
        },
        "id": "p2S7iuzso2_D",
        "outputId": "99c5c722-6c18-4d62-a417-541d27cb94dd"
      },
      "source": [
        "x = float(input('pH of water : '))\n",
        "normalizedX = (x - xmin) / (xmax - xmin)\n",
        "predy = m1 * normalizedX ** 2 + m2 * normalizedX + c\n",
        "y = predy * (ymax - ymin) + ymin\n",
        "print('Estimated amount of bicarbonates :', round(y, 3))"
      ],
      "execution_count": null,
      "outputs": [
        {
          "output_type": "stream",
          "name": "stdout",
          "text": [
            "pH of water : 5\n",
            "Estimated amount of bicarbonates : 82.382\n"
          ]
        }
      ]
    }
  ]
}