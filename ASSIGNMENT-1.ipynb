{
  "nbformat": 4,
  "nbformat_minor": 0,
  "metadata": {
    "colab": {
      "name": "Untitled1.ipynb",
      "provenance": [],
      "authorship_tag": "ABX9TyNGPjPTOBDse6HNG4/eNauP",
      "include_colab_link": true
    },
    "kernelspec": {
      "name": "python3",
      "display_name": "Python 3"
    },
    "language_info": {
      "name": "python"
    }
  },
  "cells": [
    {
      "cell_type": "markdown",
      "metadata": {
        "id": "view-in-github",
        "colab_type": "text"
      },
      "source": [
        "<a href=\"https://colab.research.google.com/github/Rajurgd/AI/blob/main/ASSIGNMENT-1.ipynb\" target=\"_parent\"><img src=\"https://colab.research.google.com/assets/colab-badge.svg\" alt=\"Open In Colab\"/></a>"
      ]
    },
    {
      "cell_type": "markdown",
      "metadata": {
        "id": "1bBUg-1sxWDw"
      },
      "source": [
        "Question:-\n",
        "\n",
        "   A farmer has recently acquired a 110 hectares piece of land. He has\n",
        "decided to grow Wheat and barley on that land. Due to the quality\n",
        "of the sun and the region’s excellent climate, the entire production of\n",
        "Wheat and Barley can be sold. He wants to know how to plant each\n",
        "variety in the 110 hectares, given the costs, net profits and labor\n",
        "requirements according to the data shown\n",
        "\n",
        "| Crop   | Cost (Rs/Hec) | Profit (Price / Hec) | Man-days |\n",
        "|--------|---------------|----------------------|----------|\n",
        "| Wheat  | 7000          | 50                   | 10       |\n",
        "| Barley | 2000          | 120                  | 30       |\n",
        "\n",
        "The farmer has a budget of Rs. 7,00,000 and availability of 1,200\n",
        "man-days during the planning horizon. Find the optimal solution and\n",
        "the optimal value.  \n",
        "## Objective Function:  \n",
        "### Maximize  \n",
        "${50x + 120y}$ \n",
        "## Inequal Constraints:\n",
        "${10x + 30y}  \\leq  1200$  \n",
        "${7000x + 2000y}  \\leq  700000$  \n",
        "${x + y}  \\leq  110 $\n",
        "### Boundaries:\n",
        "${x,y} \\geq 0$"
      ]
    },
    {
      "cell_type": "code",
      "metadata": {
        "colab": {
          "base_uri": "https://localhost:8080/"
        },
        "id": "_pYrQicJxX9A",
        "outputId": "49861dbd-84b1-406b-b071-0d59391b3d75"
      },
      "source": [
        "from scipy.optimize import linprog\n",
        "object = [-50,-120] \n",
        "     # Negative objective function, as linprog is used to find the minimum.\n",
        "     # (max = min - profit)\n",
        "A_eq = [[10,30],[7000, 2000],[1,1]]         # Inequaility constraints coeffecient Matrix \n",
        "B_eq = [1200, 700000, 110]                  # Inequaility constraints cosntant Matrix \n",
        "bnd = [(0,float(\"inf\")),(0,float(\"inf\"))]   # Boundaries or limits\n",
        "sol = linprog(c=object, A_ub=A_eq, b_ub=B_eq, bounds=bnd, method=\"Simplex\")\n",
        "print(f\"X(Wheat): {round(sol.x[0])} Hectares\\nY(Barley): {round(sol.x[1])} Hectares\")"
      ],
      "execution_count": 19,
      "outputs": [
        {
          "output_type": "stream",
          "text": [
            "X(Wheat): 98 Hectares\n",
            "Y(Barley): 7 Hectares\n"
          ],
          "name": "stdout"
        }
      ]
    }
  ]
}