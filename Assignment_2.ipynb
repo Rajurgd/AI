{
  "nbformat": 4,
  "nbformat_minor": 0,
  "metadata": {
    "colab": {
      "name": "Assignment_2.ipynb",
      "provenance": [],
      "collapsed_sections": [],
      "authorship_tag": "ABX9TyOHhnKxz7SubM2Gw/LTcmq1",
      "include_colab_link": true
    },
    "kernelspec": {
      "name": "python3",
      "display_name": "Python 3"
    },
    "language_info": {
      "name": "python"
    }
  },
  "cells": [
    {
      "cell_type": "markdown",
      "metadata": {
        "id": "view-in-github",
        "colab_type": "text"
      },
      "source": [
        "<a href=\"https://colab.research.google.com/github/Rajurgd/AI/blob/main/Assignment_2.ipynb\" target=\"_parent\"><img src=\"https://colab.research.google.com/assets/colab-badge.svg\" alt=\"Open In Colab\"/></a>"
      ]
    },
    {
      "cell_type": "markdown",
      "metadata": {
        "id": "0tnEWmqtP-sh"
      },
      "source": [
        "## Assignment 2\n",
        "\n",
        "<h4> Finding global minimum of the given function <h4> ${f(x) = x^4 + 3x^2 + 10}$ </h4> <h4> and finding the optimal solution using <b>Gradient Descent Algorithim</b> </h4>"
      ]
    },
    {
      "cell_type": "code",
      "metadata": {
        "colab": {
          "base_uri": "https://localhost:8080/"
        },
        "id": "J65KmwuhP9ET",
        "outputId": "fab1b14e-bb51-4462-b0b7-90a495f4b0c7"
      },
      "source": [
        "import numpy as np\n",
        "x0 = np.random.uniform(1,3)   # For random x0 values in range 1 to 3.\n",
        "learning_rate = 0.04\n",
        "max_steps = 1000              # Iterations are limited to 1000.\n",
        "steps = 0                     # Starting step\n",
        "previous_step_size = 1\n",
        "\n",
        "def function(x):\n",
        "    return x**4 + 3*(x**2) + 10\n",
        "\n",
        "def grad_f(x):\n",
        "    return 4*(x**3) + 6*x     # The gradient of the function.\n",
        "\n",
        "print(\"initial value of x : \", x0)\n",
        "\n",
        "while previous_step_size > 0.0000001 and steps < max_steps:\n",
        "    previous_x = x0\n",
        "    x0 = x0 - learning_rate * grad_f(previous_x)\n",
        "    previous_step_size = abs(x0 - previous_x)\n",
        "    steps = steps + 1\n",
        "\n",
        "print(\"the minimum occurs at : \", round(x0) )\n",
        "print(\"steps taken : \", steps)\n",
        "print(\"the value of the objective function is \", round(function(x0)))"
      ],
      "execution_count": null,
      "outputs": [
        {
          "output_type": "stream",
          "name": "stdout",
          "text": [
            "initial value of x :  2.0289139439877486\n",
            "the minimum occurs at :  0\n",
            "steps taken :  50\n",
            "the value of the objective function is  10\n"
          ]
        }
      ]
    },
    {
      "cell_type": "markdown",
      "metadata": {
        "id": "G8VaOqXKVfIp"
      },
      "source": [
        "# Manual calculations\n",
        "\n",
        "![Manual calculations\n",
        "](https://raw.githubusercontent.com/Rajurgd/AI/main/Assignment-2(model_calculations).PNG)"
      ]
    },
    {
      "cell_type": "markdown",
      "metadata": {
        "id": "97W_ItrGVkPm"
      },
      "source": [
        "# Model graph\n",
        "![Model graph](https://raw.githubusercontent.com/Rajurgd/AI/main/Assignment-2_graph.PNG)"
      ]
    }
  ]
}